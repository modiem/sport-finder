{
 "cells": [
  {
   "cell_type": "markdown",
   "id": "6c40a5c6",
   "metadata": {},
   "source": [
    "# Find your thing!"
   ]
  },
  {
   "cell_type": "code",
   "execution_count": 16,
   "id": "1f1d7474",
   "metadata": {
    "scrolled": false
   },
   "outputs": [],
   "source": [
    "import pandas as pd\n",
    "import numpy as np"
   ]
  },
  {
   "cell_type": "code",
   "execution_count": 95,
   "id": "b2e82165",
   "metadata": {},
   "outputs": [],
   "source": [
    "def get_df():\n",
    "    df = pd.read_excel('data/new skill.xlsx') \n",
    "    df = df.set_index(\"Sport\")\n",
    "    return df"
   ]
  },
  {
   "cell_type": "code",
   "execution_count": 96,
   "id": "04ec8f44",
   "metadata": {
    "scrolled": false
   },
   "outputs": [
    {
     "data": {
      "text/html": [
       "<div>\n",
       "<style scoped>\n",
       "    .dataframe tbody tr th:only-of-type {\n",
       "        vertical-align: middle;\n",
       "    }\n",
       "\n",
       "    .dataframe tbody tr th {\n",
       "        vertical-align: top;\n",
       "    }\n",
       "\n",
       "    .dataframe thead th {\n",
       "        text-align: right;\n",
       "    }\n",
       "</style>\n",
       "<table border=\"1\" class=\"dataframe\">\n",
       "  <thead>\n",
       "    <tr style=\"text-align: right;\">\n",
       "      <th></th>\n",
       "      <th>Endurance</th>\n",
       "      <th>Strength</th>\n",
       "      <th>Power</th>\n",
       "      <th>Agility</th>\n",
       "      <th>Flexibility</th>\n",
       "      <th>Pain</th>\n",
       "      <th>Hand-Eye Coordination</th>\n",
       "      <th>Teamwork</th>\n",
       "      <th>Budget</th>\n",
       "      <th>Aggresiveness</th>\n",
       "      <th>Communication</th>\n",
       "      <th>Focus</th>\n",
       "      <th>Body fat</th>\n",
       "      <th>Height</th>\n",
       "    </tr>\n",
       "    <tr>\n",
       "      <th>Sport</th>\n",
       "      <th></th>\n",
       "      <th></th>\n",
       "      <th></th>\n",
       "      <th></th>\n",
       "      <th></th>\n",
       "      <th></th>\n",
       "      <th></th>\n",
       "      <th></th>\n",
       "      <th></th>\n",
       "      <th></th>\n",
       "      <th></th>\n",
       "      <th></th>\n",
       "      <th></th>\n",
       "      <th></th>\n",
       "    </tr>\n",
       "  </thead>\n",
       "  <tbody>\n",
       "    <tr>\n",
       "      <th>Boxing</th>\n",
       "      <td>8.63</td>\n",
       "      <td>8.13</td>\n",
       "      <td>8.63</td>\n",
       "      <td>6.25</td>\n",
       "      <td>4.38</td>\n",
       "      <td>8.88</td>\n",
       "      <td>7.00</td>\n",
       "      <td>1</td>\n",
       "      <td>2</td>\n",
       "      <td>10.0</td>\n",
       "      <td>0</td>\n",
       "      <td>9</td>\n",
       "      <td>3</td>\n",
       "      <td>5</td>\n",
       "    </tr>\n",
       "    <tr>\n",
       "      <th>Ice Hockey</th>\n",
       "      <td>7.25</td>\n",
       "      <td>7.13</td>\n",
       "      <td>7.88</td>\n",
       "      <td>7.63</td>\n",
       "      <td>4.88</td>\n",
       "      <td>6.00</td>\n",
       "      <td>7.50</td>\n",
       "      <td>10</td>\n",
       "      <td>6</td>\n",
       "      <td>10.0</td>\n",
       "      <td>8</td>\n",
       "      <td>7</td>\n",
       "      <td>4</td>\n",
       "      <td>5</td>\n",
       "    </tr>\n",
       "    <tr>\n",
       "      <th>Football</th>\n",
       "      <td>5.38</td>\n",
       "      <td>8.63</td>\n",
       "      <td>8.13</td>\n",
       "      <td>6.38</td>\n",
       "      <td>4.38</td>\n",
       "      <td>7.25</td>\n",
       "      <td>5.50</td>\n",
       "      <td>10</td>\n",
       "      <td>4</td>\n",
       "      <td>7.0</td>\n",
       "      <td>7</td>\n",
       "      <td>7</td>\n",
       "      <td>6</td>\n",
       "      <td>6</td>\n",
       "    </tr>\n",
       "    <tr>\n",
       "      <th>Basketball</th>\n",
       "      <td>7.38</td>\n",
       "      <td>6.25</td>\n",
       "      <td>6.50</td>\n",
       "      <td>8.13</td>\n",
       "      <td>5.63</td>\n",
       "      <td>4.13</td>\n",
       "      <td>7.50</td>\n",
       "      <td>10</td>\n",
       "      <td>1</td>\n",
       "      <td>7.0</td>\n",
       "      <td>8</td>\n",
       "      <td>7</td>\n",
       "      <td>5</td>\n",
       "      <td>9</td>\n",
       "    </tr>\n",
       "    <tr>\n",
       "      <th>Wrestling</th>\n",
       "      <td>6.63</td>\n",
       "      <td>8.38</td>\n",
       "      <td>7.13</td>\n",
       "      <td>6.38</td>\n",
       "      <td>7.50</td>\n",
       "      <td>5.00</td>\n",
       "      <td>4.25</td>\n",
       "      <td>1</td>\n",
       "      <td>1</td>\n",
       "      <td>9.5</td>\n",
       "      <td>0</td>\n",
       "      <td>8</td>\n",
       "      <td>8</td>\n",
       "      <td>6</td>\n",
       "    </tr>\n",
       "  </tbody>\n",
       "</table>\n",
       "</div>"
      ],
      "text/plain": [
       "            Endurance  Strength  Power  Agility  Flexibility  Pain  \\\n",
       "Sport                                                                \n",
       "Boxing           8.63      8.13   8.63     6.25         4.38  8.88   \n",
       "Ice Hockey       7.25      7.13   7.88     7.63         4.88  6.00   \n",
       "Football         5.38      8.63   8.13     6.38         4.38  7.25   \n",
       "Basketball       7.38      6.25   6.50     8.13         5.63  4.13   \n",
       "Wrestling        6.63      8.38   7.13     6.38         7.50  5.00   \n",
       "\n",
       "            Hand-Eye Coordination  Teamwork  Budget  Aggresiveness  \\\n",
       "Sport                                                                \n",
       "Boxing                       7.00         1       2           10.0   \n",
       "Ice Hockey                   7.50        10       6           10.0   \n",
       "Football                     5.50        10       4            7.0   \n",
       "Basketball                   7.50        10       1            7.0   \n",
       "Wrestling                    4.25         1       1            9.5   \n",
       "\n",
       "            Communication  Focus  Body fat  Height  \n",
       "Sport                                               \n",
       "Boxing                  0      9         3       5  \n",
       "Ice Hockey              8      7         4       5  \n",
       "Football                7      7         6       6  \n",
       "Basketball              8      7         5       9  \n",
       "Wrestling               0      8         8       6  "
      ]
     },
     "execution_count": 96,
     "metadata": {},
     "output_type": "execute_result"
    }
   ],
   "source": [
    "df.head()"
   ]
  },
  {
   "cell_type": "code",
   "execution_count": 80,
   "id": "dd8c1e9f",
   "metadata": {
    "scrolled": false
   },
   "outputs": [
    {
     "data": {
      "text/plain": [
       "(41, 14)"
      ]
     },
     "execution_count": 80,
     "metadata": {},
     "output_type": "execute_result"
    }
   ],
   "source": [
    "df.shape"
   ]
  },
  {
   "cell_type": "code",
   "execution_count": 81,
   "id": "0fb2eceb",
   "metadata": {
    "scrolled": true
   },
   "outputs": [
    {
     "data": {
      "text/plain": [
       "Index(['Endurance', 'Strength', 'Power', 'Agility', 'Flexibility', 'Pain',\n",
       "       'Hand-Eye Coordination', 'Teamwork', 'Budget', 'Aggresiveness',\n",
       "       'Communication', 'Focus', 'Body fat', 'Height'],\n",
       "      dtype='object')"
      ]
     },
     "execution_count": 81,
     "metadata": {},
     "output_type": "execute_result"
    }
   ],
   "source": [
    "df.columns"
   ]
  },
  {
   "cell_type": "markdown",
   "id": "e81e291c",
   "metadata": {},
   "source": [
    "## Similarity"
   ]
  },
  {
   "cell_type": "code",
   "execution_count": 8,
   "id": "a084a916",
   "metadata": {},
   "outputs": [],
   "source": [
    "from sklearn.metrics.pairwise import cosine_similarity"
   ]
  },
  {
   "cell_type": "markdown",
   "id": "ae50fe83",
   "metadata": {},
   "source": [
    "### create an input array"
   ]
  },
  {
   "cell_type": "code",
   "execution_count": 54,
   "id": "7f03f637",
   "metadata": {},
   "outputs": [],
   "source": [
    "def create_input():\n",
    "    lst = []\n",
    "    for col in df.columns:\n",
    "        num = np.random.choice(df[col])\n",
    "        lst.append(num)\n",
    "    result = np.array(lst)\n",
    "    return result\n"
   ]
  },
  {
   "cell_type": "code",
   "execution_count": 82,
   "id": "acdda2b7",
   "metadata": {},
   "outputs": [
    {
     "data": {
      "text/plain": [
       "(1, 14)"
      ]
     },
     "execution_count": 82,
     "metadata": {},
     "output_type": "execute_result"
    }
   ],
   "source": [
    "create_input().reshape(1,-1).shape"
   ]
  },
  {
   "cell_type": "code",
   "execution_count": 83,
   "id": "6300923d",
   "metadata": {},
   "outputs": [],
   "source": [
    "sim_input = create_input().reshape(1,-1)"
   ]
  },
  {
   "cell_type": "markdown",
   "id": "488c089a",
   "metadata": {},
   "source": [
    "### Disstance"
   ]
  },
  {
   "cell_type": "code",
   "execution_count": 84,
   "id": "7a7c16b4",
   "metadata": {},
   "outputs": [
    {
     "data": {
      "text/plain": [
       "Index(['Boxing', 'Ice Hockey', 'Football', 'Basketball', 'Wrestling',\n",
       "       'Martial Arts', 'Tennis', 'Gymnastics', 'Baseball/Softball', 'Soccer',\n",
       "       'Water Polo', 'Rugby', 'Lacrosse', 'Field Hockey', 'Speed Skating',\n",
       "       'Figure Skating', 'Cycling', 'Volleyball', 'Racquetball/Squash',\n",
       "       'Surfing', 'Fencing', 'Team Handball', 'Badminton', 'Diving',\n",
       "       'Swimming', 'Skateboarding', 'Rowing& paddles', 'Table Tennis',\n",
       "       'Canoe/Kayak', 'Horse Racing', 'Golf', 'Roller Skating', 'Archery',\n",
       "       'Curling', 'Bowling', 'Shooting', 'Billiards', 'Fishing', 'Hiking',\n",
       "       'Yoga', 'Dancing'],\n",
       "      dtype='object', name='Sport')"
      ]
     },
     "execution_count": 84,
     "metadata": {},
     "output_type": "execute_result"
    }
   ],
   "source": [
    "df.index"
   ]
  },
  {
   "cell_type": "code",
   "execution_count": 85,
   "id": "e1e5904c",
   "metadata": {},
   "outputs": [],
   "source": [
    "dic = {\"distance\": cosine_similarity(df, sim_input).reshape(-1)}"
   ]
  },
  {
   "cell_type": "code",
   "execution_count": 86,
   "id": "1d93b567",
   "metadata": {},
   "outputs": [
    {
     "data": {
      "text/plain": [
       "{'distance': array([0.75971859, 0.90578262, 0.93024574, 0.904246  , 0.78404102,\n",
       "        0.82183301, 0.8939648 , 0.78421264, 0.95617627, 0.88412026,\n",
       "        0.90537037, 0.90200471, 0.88933132, 0.89171379, 0.84180853,\n",
       "        0.81210154, 0.8427436 , 0.90106597, 0.89161139, 0.71945617,\n",
       "        0.71349307, 0.90582201, 0.90035372, 0.81723269, 0.89030085,\n",
       "        0.87195047, 0.92262026, 0.93220798, 0.95399288, 0.67928526,\n",
       "        0.8290144 , 0.90602225, 0.86911138, 0.90817971, 0.87662279,\n",
       "        0.75456431, 0.70505696, 0.77736235, 0.89877119, 0.82996807,\n",
       "        0.89210352])}"
      ]
     },
     "execution_count": 86,
     "metadata": {},
     "output_type": "execute_result"
    }
   ],
   "source": [
    "dic"
   ]
  },
  {
   "cell_type": "code",
   "execution_count": 87,
   "id": "c102e9bf",
   "metadata": {
    "scrolled": true
   },
   "outputs": [
    {
     "data": {
      "text/plain": [
       "array([[ 4.88,  7.  ,  7.13,  2.5 ,  5.88,  3.63,  8.38, 10.  ,  2.  ,\n",
       "         3.  ,  5.  ,  4.  ,  7.  ,  2.  ]])"
      ]
     },
     "execution_count": 87,
     "metadata": {},
     "output_type": "execute_result"
    }
   ],
   "source": [
    "sim_input"
   ]
  },
  {
   "cell_type": "code",
   "execution_count": 104,
   "id": "f71f4500",
   "metadata": {},
   "outputs": [
    {
     "data": {
      "text/plain": [
       "4"
      ]
     },
     "execution_count": 104,
     "metadata": {},
     "output_type": "execute_result"
    }
   ],
   "source": [
    "np.random.randint(1, 10)"
   ]
  },
  {
   "cell_type": "code",
   "execution_count": 94,
   "id": "7871a85c",
   "metadata": {
    "scrolled": false
   },
   "outputs": [
    {
     "data": {
      "text/html": [
       "<div>\n",
       "<style scoped>\n",
       "    .dataframe tbody tr th:only-of-type {\n",
       "        vertical-align: middle;\n",
       "    }\n",
       "\n",
       "    .dataframe tbody tr th {\n",
       "        vertical-align: top;\n",
       "    }\n",
       "\n",
       "    .dataframe thead th {\n",
       "        text-align: right;\n",
       "    }\n",
       "</style>\n",
       "<table border=\"1\" class=\"dataframe\">\n",
       "  <thead>\n",
       "    <tr style=\"text-align: right;\">\n",
       "      <th></th>\n",
       "      <th>distance</th>\n",
       "    </tr>\n",
       "    <tr>\n",
       "      <th>Sport</th>\n",
       "      <th></th>\n",
       "    </tr>\n",
       "  </thead>\n",
       "  <tbody>\n",
       "    <tr>\n",
       "      <th>Baseball/Softball</th>\n",
       "      <td>0.956176</td>\n",
       "    </tr>\n",
       "    <tr>\n",
       "      <th>Canoe/Kayak</th>\n",
       "      <td>0.953993</td>\n",
       "    </tr>\n",
       "    <tr>\n",
       "      <th>Table Tennis</th>\n",
       "      <td>0.932208</td>\n",
       "    </tr>\n",
       "    <tr>\n",
       "      <th>Football</th>\n",
       "      <td>0.930246</td>\n",
       "    </tr>\n",
       "    <tr>\n",
       "      <th>Rowing&amp; paddles</th>\n",
       "      <td>0.922620</td>\n",
       "    </tr>\n",
       "    <tr>\n",
       "      <th>Curling</th>\n",
       "      <td>0.908180</td>\n",
       "    </tr>\n",
       "    <tr>\n",
       "      <th>Roller Skating</th>\n",
       "      <td>0.906022</td>\n",
       "    </tr>\n",
       "    <tr>\n",
       "      <th>Team Handball</th>\n",
       "      <td>0.905822</td>\n",
       "    </tr>\n",
       "    <tr>\n",
       "      <th>Ice Hockey</th>\n",
       "      <td>0.905783</td>\n",
       "    </tr>\n",
       "    <tr>\n",
       "      <th>Water Polo</th>\n",
       "      <td>0.905370</td>\n",
       "    </tr>\n",
       "    <tr>\n",
       "      <th>Basketball</th>\n",
       "      <td>0.904246</td>\n",
       "    </tr>\n",
       "    <tr>\n",
       "      <th>Rugby</th>\n",
       "      <td>0.902005</td>\n",
       "    </tr>\n",
       "    <tr>\n",
       "      <th>Volleyball</th>\n",
       "      <td>0.901066</td>\n",
       "    </tr>\n",
       "    <tr>\n",
       "      <th>Badminton</th>\n",
       "      <td>0.900354</td>\n",
       "    </tr>\n",
       "    <tr>\n",
       "      <th>Hiking</th>\n",
       "      <td>0.898771</td>\n",
       "    </tr>\n",
       "    <tr>\n",
       "      <th>Tennis</th>\n",
       "      <td>0.893965</td>\n",
       "    </tr>\n",
       "    <tr>\n",
       "      <th>Dancing</th>\n",
       "      <td>0.892104</td>\n",
       "    </tr>\n",
       "    <tr>\n",
       "      <th>Field Hockey</th>\n",
       "      <td>0.891714</td>\n",
       "    </tr>\n",
       "    <tr>\n",
       "      <th>Racquetball/Squash</th>\n",
       "      <td>0.891611</td>\n",
       "    </tr>\n",
       "    <tr>\n",
       "      <th>Swimming</th>\n",
       "      <td>0.890301</td>\n",
       "    </tr>\n",
       "    <tr>\n",
       "      <th>Lacrosse</th>\n",
       "      <td>0.889331</td>\n",
       "    </tr>\n",
       "    <tr>\n",
       "      <th>Soccer</th>\n",
       "      <td>0.884120</td>\n",
       "    </tr>\n",
       "    <tr>\n",
       "      <th>Bowling</th>\n",
       "      <td>0.876623</td>\n",
       "    </tr>\n",
       "    <tr>\n",
       "      <th>Skateboarding</th>\n",
       "      <td>0.871950</td>\n",
       "    </tr>\n",
       "    <tr>\n",
       "      <th>Archery</th>\n",
       "      <td>0.869111</td>\n",
       "    </tr>\n",
       "    <tr>\n",
       "      <th>Cycling</th>\n",
       "      <td>0.842744</td>\n",
       "    </tr>\n",
       "    <tr>\n",
       "      <th>Speed Skating</th>\n",
       "      <td>0.841809</td>\n",
       "    </tr>\n",
       "    <tr>\n",
       "      <th>Yoga</th>\n",
       "      <td>0.829968</td>\n",
       "    </tr>\n",
       "    <tr>\n",
       "      <th>Golf</th>\n",
       "      <td>0.829014</td>\n",
       "    </tr>\n",
       "    <tr>\n",
       "      <th>Martial Arts</th>\n",
       "      <td>0.821833</td>\n",
       "    </tr>\n",
       "    <tr>\n",
       "      <th>Diving</th>\n",
       "      <td>0.817233</td>\n",
       "    </tr>\n",
       "    <tr>\n",
       "      <th>Figure Skating</th>\n",
       "      <td>0.812102</td>\n",
       "    </tr>\n",
       "    <tr>\n",
       "      <th>Gymnastics</th>\n",
       "      <td>0.784213</td>\n",
       "    </tr>\n",
       "    <tr>\n",
       "      <th>Wrestling</th>\n",
       "      <td>0.784041</td>\n",
       "    </tr>\n",
       "    <tr>\n",
       "      <th>Fishing</th>\n",
       "      <td>0.777362</td>\n",
       "    </tr>\n",
       "    <tr>\n",
       "      <th>Boxing</th>\n",
       "      <td>0.759719</td>\n",
       "    </tr>\n",
       "    <tr>\n",
       "      <th>Shooting</th>\n",
       "      <td>0.754564</td>\n",
       "    </tr>\n",
       "    <tr>\n",
       "      <th>Surfing</th>\n",
       "      <td>0.719456</td>\n",
       "    </tr>\n",
       "    <tr>\n",
       "      <th>Fencing</th>\n",
       "      <td>0.713493</td>\n",
       "    </tr>\n",
       "    <tr>\n",
       "      <th>Billiards</th>\n",
       "      <td>0.705057</td>\n",
       "    </tr>\n",
       "    <tr>\n",
       "      <th>Horse Racing</th>\n",
       "      <td>0.679285</td>\n",
       "    </tr>\n",
       "  </tbody>\n",
       "</table>\n",
       "</div>"
      ],
      "text/plain": [
       "                    distance\n",
       "Sport                       \n",
       "Baseball/Softball   0.956176\n",
       "Canoe/Kayak         0.953993\n",
       "Table Tennis        0.932208\n",
       "Football            0.930246\n",
       "Rowing& paddles     0.922620\n",
       "Curling             0.908180\n",
       "Roller Skating      0.906022\n",
       "Team Handball       0.905822\n",
       "Ice Hockey          0.905783\n",
       "Water Polo          0.905370\n",
       "Basketball          0.904246\n",
       "Rugby               0.902005\n",
       "Volleyball          0.901066\n",
       "Badminton           0.900354\n",
       "Hiking              0.898771\n",
       "Tennis              0.893965\n",
       "Dancing             0.892104\n",
       "Field Hockey        0.891714\n",
       "Racquetball/Squash  0.891611\n",
       "Swimming            0.890301\n",
       "Lacrosse            0.889331\n",
       "Soccer              0.884120\n",
       "Bowling             0.876623\n",
       "Skateboarding       0.871950\n",
       "Archery             0.869111\n",
       "Cycling             0.842744\n",
       "Speed Skating       0.841809\n",
       "Yoga                0.829968\n",
       "Golf                0.829014\n",
       "Martial Arts        0.821833\n",
       "Diving              0.817233\n",
       "Figure Skating      0.812102\n",
       "Gymnastics          0.784213\n",
       "Wrestling           0.784041\n",
       "Fishing             0.777362\n",
       "Boxing              0.759719\n",
       "Shooting            0.754564\n",
       "Surfing             0.719456\n",
       "Fencing             0.713493\n",
       "Billiards           0.705057\n",
       "Horse Racing        0.679285"
      ]
     },
     "execution_count": 94,
     "metadata": {},
     "output_type": "execute_result"
    }
   ],
   "source": [
    "pd.DataFrame(dic, index = df.index).sort_values(by=[\"distance\"], ascending=False)"
   ]
  },
  {
   "cell_type": "markdown",
   "id": "f1419dfa",
   "metadata": {},
   "source": [
    "### Scrape a pic"
   ]
  }
 ],
 "metadata": {
  "kernelspec": {
   "display_name": "Python 3 (ipykernel)",
   "language": "python",
   "name": "python3"
  },
  "language_info": {
   "codemirror_mode": {
    "name": "ipython",
    "version": 3
   },
   "file_extension": ".py",
   "mimetype": "text/x-python",
   "name": "python",
   "nbconvert_exporter": "python",
   "pygments_lexer": "ipython3",
   "version": "3.7.3"
  },
  "toc": {
   "base_numbering": 1,
   "nav_menu": {},
   "number_sections": true,
   "sideBar": true,
   "skip_h1_title": true,
   "title_cell": "Table of Contents",
   "title_sidebar": "Contents",
   "toc_cell": false,
   "toc_position": {},
   "toc_section_display": true,
   "toc_window_display": true
  }
 },
 "nbformat": 4,
 "nbformat_minor": 5
}
